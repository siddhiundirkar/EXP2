{
  "nbformat": 4,
  "nbformat_minor": 0,
  "metadata": {
    "colab": {
      "name": "R_Experiment2_writeup.ipynb",
      "provenance": [],
      "collapsed_sections": [],
      "include_colab_link": true
    },
    "kernelspec": {
      "name": "ir",
      "display_name": "R"
    }
  },
  "cells": [
    {
      "cell_type": "markdown",
      "metadata": {
        "id": "view-in-github",
        "colab_type": "text"
      },
      "source": [
        "<a href=\"https://colab.research.google.com/github/siddhiundirkar/EXP2/blob/main/R_Experiment2_writeup.ipynb\" target=\"_parent\"><img src=\"https://colab.research.google.com/assets/colab-badge.svg\" alt=\"Open In Colab\"/></a>"
      ]
    },
    {
      "cell_type": "markdown",
      "metadata": {
        "id": "ID8ytqkhyQUI"
      },
      "source": [
        "\n",
        "**Vectors R Programming**\n",
        "\n",
        "The simplest and most common data structure in R is the vector. Vectors come in two different flavors: atomic vectors and lists. An atomic vector contains exactly one data type, whereas a list may contain multiple data types.\n",
        "\n",
        "Atomic vectors include logical, character, integer, and complex. Logical vectors can contain the values TRUE, FALSE, and NA (for 'not available').These values are generated as the result of logical 'conditions'.\n",
        "\n",
        "Complet following couple of code cell to genearate a logical vector in variable logic_vect\n"
      ]
    },
    {
      "cell_type": "markdown",
      "metadata": {
        "id": "Wjk_ipkRbIEQ"
      },
      "source": [
        "If you print logic_vect. you will see that is is a logical vector with 4 values. Print logic_vect in cell below to verify it "
      ]
    },
    {
      "cell_type": "code",
      "metadata": {
        "id": "mvq2ZGpJgUNK"
      },
      "source": [
        "In [ ]:\r\n",
        "# Create a vector num_vect with values -100, 0.55, 45, 5466\r\n",
        "num_vect<-c(-100,0.55,45,5466)\r\n",
        "num_vect\r\n",
        "\r\n",
        "-100\r\n",
        "0.55\r\n",
        "45\r\n",
        "5466"
      ],
      "execution_count": null,
      "outputs": []
    },
    {
      "cell_type": "code",
      "metadata": {
        "id": "HdmpxTGQgdol"
      },
      "source": [
        "In [ ]:\r\n",
        "#Now, create a variable called logic_vect that gets the result of num_vect <= 0.55, which is read as 'num_vect is less than 0.55'.\r\n",
        "logic_vect <- num_vect <= 0.55"
      ],
      "execution_count": null,
      "outputs": []
    },
    {
      "cell_type": "markdown",
      "metadata": {
        "id": "ab7BFAUkggJK"
      },
      "source": [
        "If you print logic_vect. you will see that is is a logical vector with 4 values. Print logic_vect in cell below to verify it"
      ]
    },
    {
      "cell_type": "code",
      "metadata": {
        "id": "f3Ote7NagicF"
      },
      "source": [
        "In [ ]:\r\n",
        "#print logic_vect\r\n",
        "logic_vect\r\n",
        "\r\n",
        "1.TRUE\r\n",
        "2.TRUE\r\n",
        "3.FALSE\r\n",
        "4.FALSE"
      ],
      "execution_count": null,
      "outputs": []
    },
    {
      "cell_type": "code",
      "metadata": {
        "id": "HmT9SEQqgqd9"
      },
      "source": [
        "In [ ]:\r\n",
        "#Type num_vect >= 6 and note the output\r\n",
        "num_vect >=6\r\n",
        "\r\n",
        "1.FALSE\r\n",
        "2.FALSE\r\n",
        "3.TRUE\r\n",
        "4.TRUE"
      ],
      "execution_count": null,
      "outputs": []
    },
    {
      "cell_type": "markdown",
      "metadata": {
        "id": "R_etJbVSgwXL"
      },
      "source": [
        "\r\n",
        "Character vectors\r\n",
        "\r\n",
        "Character vectors are also very common in R. Double quotes are used to distinguish character objects."
      ]
    },
    {
      "cell_type": "code",
      "metadata": {
        "id": "GG7vsZ5rgyMq"
      },
      "source": [
        "In [ ]:\r\n",
        "# Create a character vector that contains the following words: \"My\", \"name\", \"is\". \r\n",
        "#Remember to enclose each word in its own set of double quotes, \r\n",
        "#so that R knows they are character strings. Store the vector in a variable called char_vect.\r\n",
        "char_vect <- c(\"My\", \"name\", \"is\")"
      ],
      "execution_count": null,
      "outputs": []
    },
    {
      "cell_type": "code",
      "metadata": {
        "id": "IYu1hEBfg0QY"
      },
      "source": [
        "In [ ]:\r\n",
        "# print the char_vect\r\n",
        "char_vect\r\n",
        "\r\n",
        "1.'My'\r\n",
        "2.'name'\r\n",
        "3.'is'"
      ],
      "execution_count": null,
      "outputs": []
    },
    {
      "cell_type": "code",
      "metadata": {
        "id": "PcJLSYGog78Z"
      },
      "source": [
        "In [ ]:\r\n",
        "#use paste(char_vect, collapse=\" \")\r\n",
        "paste(char_vect,collapse=\" \")\r\n",
        "\r\n",
        "'My name is'"
      ],
      "execution_count": null,
      "outputs": []
    },
    {
      "cell_type": "markdown",
      "metadata": {
        "id": "eKl6S3TOg_Ar"
      },
      "source": [
        "\r\n",
        "Explain What difference you see in above two code blocks\r\n",
        "\r\n",
        "My explaination: In the first cell the vector elements are printed as its elements. ie. as different character strings. In second cell all the character strings are printed as single string and seperated by a space (\" \")."
      ]
    },
    {
      "cell_type": "code",
      "metadata": {
        "id": "hJZKnOB2hCZJ"
      },
      "source": [
        "In [ ]:\r\n",
        "# add your name as an element to char_vect and paste complete sentence saying \"My name is <your name>\"\r\n",
        "char_vect <- c(char_vect,\"Siddhi\")\r\n",
        "paste(char_vect, collapse = \" \")\r\n",
        "'My name is Siddhi'"
      ],
      "execution_count": null,
      "outputs": []
    },
    {
      "cell_type": "code",
      "metadata": {
        "id": "cUZdXwezhKGh"
      },
      "source": [
        "In [ ]:\r\n",
        "#Execute this code block\r\n",
        "paste(\"Hello\",\"World!\",collapse=\" \")\r\n",
        "\r\n",
        "'Hello World!'"
      ],
      "execution_count": null,
      "outputs": []
    },
    {
      "cell_type": "markdown",
      "metadata": {
        "id": "Nc_Zng9shNN1"
      },
      "source": [
        "\r\n",
        "Explain output of code block above. Ans: paste() in above cells prints 2 strings with space."
      ]
    },
    {
      "cell_type": "code",
      "metadata": {
        "id": "mu7taTyihPbM"
      },
      "source": [
        "In [ ]:\r\n",
        "#Execute this \r\n",
        "paste(1:3, c(\"X\", \"Y\", \"Z\"), sep = \":\")\r\n",
        "1.'1:X'\r\n",
        "2.'2:Y'\r\n",
        "3.'3:Z'"
      ],
      "execution_count": null,
      "outputs": []
    },
    {
      "cell_type": "markdown",
      "metadata": {
        "id": "aDHUEJo1hUDr"
      },
      "source": [
        "\r\n",
        "Explain output of above code block Ans: 2 vectors, both of size 3. First has elements (1,2,3) and second (\"X\",\"Y\",\"Z\"). When paste() is used it prints elements of both with iteration. sep=\":\" seperates both values with \":\"."
      ]
    },
    {
      "cell_type": "code",
      "metadata": {
        "id": "tuDoZgkDhW1H"
      },
      "source": [
        "In [ ]:\r\n",
        "#Executes this LETTERS is \r\n",
        "paste(LETTERS, 1:10, sep = \"-\")\r\n",
        "1.'A-1'\r\n",
        "2.'B-2'\r\n",
        "3.'C-3'\r\n",
        "4.'D-4'\r\n",
        "5.'E-5'\r\n",
        "6.'F-6'\r\n",
        "7.'G-7'\r\n",
        "8.'H-8'\r\n",
        "9.'I-9'\r\n",
        "10.'J-10'\r\n",
        "11.'K-1'\r\n",
        "12.'L-2'\r\n",
        "13.'M-3'\r\n",
        "14.'N-4'\r\n",
        "15.'O-5'\r\n",
        "16.'P-6'\r\n",
        "17.'Q-7'\r\n",
        "18.'R-8'\r\n",
        "19.'S-9'\r\n",
        "20.'T-10'\r\n",
        "21.'U-1'\r\n",
        "22.'V-2'\r\n",
        "23.'W-3'\r\n",
        "24.'X-4'\r\n",
        "25.'Y-5'\r\n",
        "26.'Z-6'"
      ],
      "execution_count": null,
      "outputs": []
    },
    {
      "cell_type": "markdown",
      "metadata": {
        "id": "TPnIYbzXhwwI"
      },
      "source": [
        "\r\n",
        "Explain output of above code block Ans: LETTERS is an in_built dataset which has uppercase alphabets. It iterates through both values and prints both values seperated by \":\"\r\n",
        "\r\n",
        "Write R code to Solve Following\r\n",
        "\r\n",
        "1.To begin with create a vecor a of 20 random values from Std Normal Variable.\r\n",
        "\r\n",
        "2.Creat another vector b of 20 NA values. Also create vector \r\n",
        "\r\n",
        "3.Sample 20 values from above two vectors.\r\n",
        "\r\n",
        "4.Subset 10th to 15th element from x to generate sample y\r\n",
        "\r\n",
        "5.Count NAs in vector x and y"
      ]
    },
    {
      "cell_type": "code",
      "metadata": {
        "id": "hoIuN0OAh5Ld"
      },
      "source": [
        "In [ ]:\r\n",
        "a <- rnorm(20)\r\n",
        "a\r\n",
        "\r\n",
        "1.-0.197488605307362\r\n",
        "2.0.965343168268929\r\n",
        "3.-0.616689317644659\r\n",
        "4.0.773851716633571\r\n",
        "5.1.18704149543533\r\n",
        "6.-0.801768722878853\r\n",
        "7.-0.957507158070555\r\n",
        "8.0.948294335109374\r\n",
        "9.2.67705148269361\r\n",
        "10.-0.215856158563669\r\n",
        "11.2.5386409715937\r\n",
        "12.-0.643516072004759\r\n",
        "13.0.311294040803502\r\n",
        "14.-0.391595935004183\r\n",
        "15.-1.71498583152034\r\n",
        "16.-0.771099677920815\r\n",
        "17.0.0631327532584313\r\n",
        "18.-1.66076950295592\r\n",
        "19.-0.679993771603823\r\n",
        "20.0.0377063618449822"
      ],
      "execution_count": null,
      "outputs": []
    },
    {
      "cell_type": "code",
      "metadata": {
        "id": "GvMW-t9yiapk"
      },
      "source": [
        "In [ ]:\r\n",
        "b <- rep(NA, 20)\r\n",
        "b\r\n",
        "class(b)\r\n",
        "1.<NA>\r\n",
        "2.<NA>\r\n",
        "3.<NA>\r\n",
        "4.<NA>\r\n",
        "5.<NA>\r\n",
        "6.<NA>\r\n",
        "7.<NA>\r\n",
        "8.<NA>\r\n",
        "9.<NA>\r\n",
        "10.<NA>\r\n",
        "11.<NA>\r\n",
        "12.<NA>\r\n",
        "13.<NA>\r\n",
        "14.<NA>\r\n",
        "15.<NA>\r\n",
        "16.<NA>\r\n",
        "17.<NA>\r\n",
        "18.<NA>\r\n",
        "19.<NA>\r\n",
        "20.<NA>\r\n",
        "\r\n",
        "\r\n",
        "'logical'"
      ],
      "execution_count": null,
      "outputs": []
    },
    {
      "cell_type": "code",
      "metadata": {
        "id": "G3Ivy0OEi2O1"
      },
      "source": [
        "In [ ]:\r\n",
        "x <- c(a,b)\r\n",
        "\r\n",
        "x <- sample(x, 20 , replace= FALSE)\r\n",
        "x\r\n",
        "\r\n",
        "y <- x[10:15]\r\n",
        "y\r\n",
        "\r\n",
        "1.<NA>\r\n",
        "2.<NA>\r\n",
        "3.1.18704149543533\r\n",
        "4.2.5386409715937\r\n",
        "5.<NA>\r\n",
        "6.0.0377063618449822\r\n",
        "7.<NA>\r\n",
        "8.<NA>\r\n",
        "9.-0.391595935004183\r\n",
        "10.-1.71498583152034\r\n",
        "11.<NA>\r\n",
        "12.-0.215856158563669\r\n",
        "13.<NA>\r\n",
        "14.2.67705148269361\r\n",
        "15.<NA>\r\n",
        "16.-0.616689317644659\r\n",
        "17.0.773851716633571\r\n",
        "18.<NA>\r\n",
        "19.<NA>\r\n",
        "20.0.948294335109374\r\n",
        "\r\n",
        "\r\n",
        "1.-1.71498583152034\r\n",
        "2.<NA>\r\n",
        "3.-0.215856158563669\r\n",
        "4.<NA>\r\n",
        "5.2.67705148269361\r\n",
        "6.<NA>"
      ],
      "execution_count": null,
      "outputs": []
    },
    {
      "cell_type": "code",
      "metadata": {
        "id": "obB_vytHjWSG"
      },
      "source": [
        "In [ ]:\r\n",
        "sum(is.na(x))\r\n",
        "sum(is.na(y))\r\n",
        "\r\n",
        "10\r\n",
        "\r\n",
        "3"
      ],
      "execution_count": null,
      "outputs": []
    }
  ]
}